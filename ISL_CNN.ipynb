{
  "cells": [
    {
      "cell_type": "markdown",
      "metadata": {
        "id": "view-in-github",
        "colab_type": "text"
      },
      "source": [
        "<a href=\"https://colab.research.google.com/github/anandusateeshNSUT/isl-cnn/blob/main/ISL_CNN.ipynb\" target=\"_parent\"><img src=\"https://colab.research.google.com/assets/colab-badge.svg\" alt=\"Open In Colab\"/></a>"
      ]
    },
    {
      "cell_type": "code",
      "execution_count": 22,
      "metadata": {
        "colab": {
          "base_uri": "https://localhost:8080/"
        },
        "id": "E4Tk4pvnh3wM",
        "outputId": "fdfeef1c-762f-4e01-c25f-29e4db62cb13"
      },
      "outputs": [
        {
          "output_type": "stream",
          "name": "stdout",
          "text": [
            "Looking in indexes: https://pypi.org/simple, https://us-python.pkg.dev/colab-wheels/public/simple/\n",
            "Requirement already satisfied: opendatasets in /usr/local/lib/python3.9/dist-packages (0.1.22)\n",
            "Requirement already satisfied: click in /usr/local/lib/python3.9/dist-packages (from opendatasets) (8.1.3)\n",
            "Requirement already satisfied: kaggle in /usr/local/lib/python3.9/dist-packages (from opendatasets) (1.5.13)\n",
            "Requirement already satisfied: tqdm in /usr/local/lib/python3.9/dist-packages (from opendatasets) (4.65.0)\n",
            "Requirement already satisfied: six>=1.10 in /usr/local/lib/python3.9/dist-packages (from kaggle->opendatasets) (1.16.0)\n",
            "Requirement already satisfied: requests in /usr/local/lib/python3.9/dist-packages (from kaggle->opendatasets) (2.27.1)\n",
            "Requirement already satisfied: python-dateutil in /usr/local/lib/python3.9/dist-packages (from kaggle->opendatasets) (2.8.2)\n",
            "Requirement already satisfied: python-slugify in /usr/local/lib/python3.9/dist-packages (from kaggle->opendatasets) (8.0.1)\n",
            "Requirement already satisfied: urllib3 in /usr/local/lib/python3.9/dist-packages (from kaggle->opendatasets) (1.26.15)\n",
            "Requirement already satisfied: certifi in /usr/local/lib/python3.9/dist-packages (from kaggle->opendatasets) (2022.12.7)\n",
            "Requirement already satisfied: text-unidecode>=1.3 in /usr/local/lib/python3.9/dist-packages (from python-slugify->kaggle->opendatasets) (1.3)\n",
            "Requirement already satisfied: idna<4,>=2.5 in /usr/local/lib/python3.9/dist-packages (from requests->kaggle->opendatasets) (3.4)\n",
            "Requirement already satisfied: charset-normalizer~=2.0.0 in /usr/local/lib/python3.9/dist-packages (from requests->kaggle->opendatasets) (2.0.12)\n"
          ]
        }
      ],
      "source": [
        "import numpy as np\n",
        "import pandas as pd\n",
        "import os\n",
        "import seaborn as sns\n",
        "import matplotlib.pyplot as plt\n",
        "%matplotlib inline\n",
        "import cv2\n",
        "from sklearn.metrics import accuracy_score,precision_score,recall_score,confusion_matrix,roc_curve,roc_auc_score\n",
        "from sklearn.model_selection import train_test_split\n",
        "import tensorflow as tf\n",
        "from tensorflow import keras\n",
        "from keras import utils, callbacks\n",
        "from tensorflow.keras import utils\n",
        "from tensorflow.keras.models import Sequential\n",
        "from tensorflow.keras import layers, models\n",
        "from keras.layers import Flatten, Dense, Dropout\n",
        "from tensorflow.keras.optimizers import Adam\n",
        "from keras.losses import CategoricalCrossentropy\n",
        "import tensorflow as tf\n",
        "from tensorflow.keras.preprocessing.image import ImageDataGenerator\n",
        "from sklearn import metrics\n",
        "from tensorflow.keras.preprocessing import image\n",
        "from tensorflow.keras.preprocessing.image import load_img, img_to_array, array_to_img\n",
        "from tensorflow.keras.utils import to_categorical\n",
        "from sklearn.model_selection import train_test_split\n",
        "from glob import glob\n",
        "import sklearn\n",
        "!pip install opendatasets\n",
        "import opendatasets as od"
      ]
    },
    {
      "cell_type": "code",
      "execution_count": 23,
      "metadata": {
        "colab": {
          "base_uri": "https://localhost:8080/"
        },
        "id": "7OYjuus9iIGW",
        "outputId": "702637c3-ec52-4b9c-fe39-51701644de24"
      },
      "outputs": [
        {
          "output_type": "stream",
          "name": "stdout",
          "text": [
            "Skipping, found downloaded files in \"./indian-sign-language-isl\" (use force=True to force download)\n"
          ]
        }
      ],
      "source": [
        "dataset_url = \"https://www.kaggle.com/datasets/prathumarikeri/indian-sign-language-isl/\"\n",
        "od.download(dataset_url)\n"
      ]
    },
    {
      "cell_type": "code",
      "execution_count": 24,
      "metadata": {
        "id": "byb03lvHh3wO"
      },
      "outputs": [],
      "source": [
        "train_folder = '/content/indian-sign-language-isl/Indian'"
      ]
    },
    {
      "cell_type": "code",
      "execution_count": 25,
      "metadata": {
        "id": "7drGVm65h3wO"
      },
      "outputs": [],
      "source": [
        "def load_images():\n",
        "    images = []\n",
        "    labels = []\n",
        "    index = -1\n",
        "    folders = sorted(os.listdir(train_folder))\n",
        "    \n",
        "    for folder in folders:\n",
        "        index += 1\n",
        "      \n",
        "        print(\"Loading images from folder \", folder ,\" has started.\")\n",
        "        for image in os.listdir(train_folder + '/' + folder):\n",
        "            img = cv2.imread(train_folder + '/' + folder + '/' + image, 0)\n",
        "            img = edge_detection(img)\n",
        "            img = cv2.resize(img, (64, 64))\n",
        "            img = img_to_array(img)\n",
        "            images.append(img)\n",
        "            labels.append(index)\n",
        "\n",
        "    images = np.array(images)\n",
        "    images = images.astype('float32')/255.0\n",
        "    labels = to_categorical(labels)\n",
        "\n",
        "    x_train, x_test, y_train, y_test = train_test_split(images, labels, test_size=0.1)\n",
        "\n",
        "    return x_train, x_test, y_train, y_test\n",
        "    \n",
        "def edge_detection(image):\n",
        "    minValue = 70\n",
        "    blur = cv2.GaussianBlur(image,(5,5),2)\n",
        "    th3 = cv2.adaptiveThreshold(blur,255,cv2.ADAPTIVE_THRESH_GAUSSIAN_C,cv2.THRESH_BINARY_INV,11,2)\n",
        "    ret, res = cv2.threshold(th3, minValue, 255, cv2.THRESH_BINARY_INV+cv2.THRESH_OTSU)\n",
        "    return res"
      ]
    },
    {
      "cell_type": "code",
      "execution_count": 26,
      "metadata": {
        "colab": {
          "base_uri": "https://localhost:8080/"
        },
        "id": "PuP5gOsGh3wP",
        "outputId": "23d2679e-45c8-45f6-cd73-76ea8f8b7377"
      },
      "outputs": [
        {
          "output_type": "stream",
          "name": "stdout",
          "text": [
            "Loading images from folder  1  has started.\n",
            "Loading images from folder  2  has started.\n",
            "Loading images from folder  3  has started.\n",
            "Loading images from folder  4  has started.\n",
            "Loading images from folder  5  has started.\n",
            "Loading images from folder  6  has started.\n",
            "Loading images from folder  7  has started.\n",
            "Loading images from folder  8  has started.\n",
            "Loading images from folder  9  has started.\n",
            "Loading images from folder  A  has started.\n",
            "Loading images from folder  B  has started.\n",
            "Loading images from folder  C  has started.\n",
            "Loading images from folder  D  has started.\n",
            "Loading images from folder  E  has started.\n",
            "Loading images from folder  F  has started.\n",
            "Loading images from folder  G  has started.\n",
            "Loading images from folder  H  has started.\n",
            "Loading images from folder  I  has started.\n",
            "Loading images from folder  J  has started.\n",
            "Loading images from folder  K  has started.\n",
            "Loading images from folder  L  has started.\n",
            "Loading images from folder  M  has started.\n",
            "Loading images from folder  N  has started.\n",
            "Loading images from folder  O  has started.\n",
            "Loading images from folder  P  has started.\n",
            "Loading images from folder  Q  has started.\n",
            "Loading images from folder  R  has started.\n",
            "Loading images from folder  S  has started.\n",
            "Loading images from folder  T  has started.\n",
            "Loading images from folder  U  has started.\n",
            "Loading images from folder  V  has started.\n",
            "Loading images from folder  W  has started.\n",
            "Loading images from folder  X  has started.\n",
            "Loading images from folder  Y  has started.\n",
            "Loading images from folder  Z  has started.\n"
          ]
        }
      ],
      "source": [
        "x_train, x_test, y_train, y_test = load_images()"
      ]
    },
    {
      "cell_type": "code",
      "execution_count": 27,
      "metadata": {
        "id": "rZJrj3jLh3wP"
      },
      "outputs": [],
      "source": [
        "from sklearn.utils import shuffle\n",
        "x_train, y_train = shuffle(x_train, y_train, random_state=17)\n",
        "x_test, y_test = shuffle(x_test, y_test, random_state=17)"
      ]
    },
    {
      "cell_type": "code",
      "execution_count": 28,
      "metadata": {
        "id": "4p3kHM8Eh3wP"
      },
      "outputs": [],
      "source": [
        "#print (\"x_train: \", x_train)\n",
        "#print (\"y_train: \", y_train)\n",
        "#print (\"x_test: \", x_test)\n",
        "#print (\"y_test: \", y_test)"
      ]
    },
    {
      "cell_type": "code",
      "execution_count": 29,
      "metadata": {
        "colab": {
          "base_uri": "https://localhost:8080/",
          "height": 163
        },
        "id": "kI-YlcUph3wP",
        "outputId": "d81f8e2f-cf11-41bc-d707-5e126a91d53c"
      },
      "outputs": [
        {
          "output_type": "display_data",
          "data": {
            "text/plain": [
              "<Figure size 1440x1440 with 2 Axes>"
            ],
            "image/png": "[encoded data removed]"
          },
          "metadata": {
            "needs_background": "light"
          }
        }
      ],
      "source": [
        "alpha = [chr(c) for c in range(65,91)]\n",
        "un,count = np.unique(y_train,return_counts=True)\n",
        "j=1\n",
        "plt.figure(figsize=(20,20))\n",
        "for i in un:\n",
        "    plt.subplot(7,4,j)\n",
        "    plt.imshow(x_train[np.where(y_train == np.array(i))[0][0]])\n",
        "    plt.axis('off')\n",
        "    j=j+1"
      ]
    },
    {
      "cell_type": "code",
      "execution_count": 30,
      "metadata": {
        "id": "2oPnYT8rh3wQ"
      },
      "outputs": [],
      "source": [
        "map_characters = {0: '1', 1: '2', 2: '3', 3: '4', 4: '5', 5: '6', 6: '7', 7: '8', 8: '9', 9: 'A', 10: 'B', 11: 'C', 12: 'D',\n",
        "                  13: 'E', 14: 'F', 15: 'G', 16: 'H', 17: 'I', 18: 'J', 19: 'K', 20: 'L', 21: 'M', 22: 'N', 23: 'O', 24: 'P',\n",
        "                  25: 'Q', 26: 'R', 27: 'S', 28: 'T', 29: 'U', 30: 'V', 31: 'W', 32: 'X', 33: 'Y', 34: 'Z'}"
      ]
    },
    {
      "cell_type": "code",
      "execution_count": 31,
      "metadata": {
        "colab": {
          "base_uri": "https://localhost:8080/"
        },
        "id": "4W1L7KRqh3wQ",
        "outputId": "61ab031f-0fc1-4341-fe77-42974cb216d0"
      },
      "outputs": [
        {
          "output_type": "stream",
          "name": "stdout",
          "text": [
            "Model: \"sequential_1\"\n",
            "_________________________________________________________________\n",
            " Layer (type)                Output Shape              Param #   \n",
            "=================================================================\n",
            " conv2d_3 (Conv2D)           (None, 62, 62, 32)        320       \n",
            "                                                                 \n",
            " max_pooling2d_3 (MaxPooling  (None, 31, 31, 32)       0         \n",
            " 2D)                                                             \n",
            "                                                                 \n",
            " conv2d_4 (Conv2D)           (None, 29, 29, 64)        18496     \n",
            "                                                                 \n",
            " max_pooling2d_4 (MaxPooling  (None, 14, 14, 64)       0         \n",
            " 2D)                                                             \n",
            "                                                                 \n",
            " conv2d_5 (Conv2D)           (None, 12, 12, 64)        36928     \n",
            "                                                                 \n",
            " max_pooling2d_5 (MaxPooling  (None, 6, 6, 64)         0         \n",
            " 2D)                                                             \n",
            "                                                                 \n",
            " flatten_1 (Flatten)         (None, 2304)              0         \n",
            "                                                                 \n",
            " dense_2 (Dense)             (None, 128)               295040    \n",
            "                                                                 \n",
            " dense_3 (Dense)             (None, 35)                4515      \n",
            "                                                                 \n",
            "=================================================================\n",
            "Total params: 355,299\n",
            "Trainable params: 355,299\n",
            "Non-trainable params: 0\n",
            "_________________________________________________________________\n"
          ]
        }
      ],
      "source": [
        "model = Sequential([\n",
        "    layers.Conv2D(32, (3, 3), activation='relu', input_shape=(64, 64, 1)),\n",
        "    layers.MaxPool2D((2, 2)),\n",
        "    layers.Conv2D(64, (3, 3), activation='relu'),\n",
        "    layers.MaxPool2D((2, 2)),\n",
        "    layers.Conv2D(64, (3, 3), activation='relu'),\n",
        "    layers.MaxPool2D((2, 2)),\n",
        "    layers.Flatten(),\n",
        "    layers.Dense(128, activation='relu'),\n",
        "    layers.Dense(35, activation='softmax')\n",
        "])\n",
        "model.summary()"
      ]
    },
    {
      "cell_type": "code",
      "execution_count": 32,
      "metadata": {
        "colab": {
          "base_uri": "https://localhost:8080/"
        },
        "id": "wGXbnA5sh3wQ",
        "outputId": "4cba6601-a8ac-4cc5-891a-82ef0cacfd71"
      },
      "outputs": [
        {
          "output_type": "stream",
          "name": "stderr",
          "text": [
            "WARNING:absl:`lr` is deprecated, please use `learning_rate` instead, or use the legacy optimizer, e.g.,tf.keras.optimizers.legacy.Adam.\n"
          ]
        },
        {
          "output_type": "stream",
          "name": "stdout",
          "text": [
            "Epoch 1/10\n",
            "1203/1203 [==============================] - 10s 7ms/step - loss: 0.1423 - accuracy: 0.9623 - val_loss: 5.9676e-04 - val_accuracy: 0.9998\n",
            "Epoch 2/10\n",
            "1203/1203 [==============================] - 12s 10ms/step - loss: 0.0065 - accuracy: 0.9986 - val_loss: 7.6801e-05 - val_accuracy: 1.0000\n",
            "Epoch 3/10\n",
            "1203/1203 [==============================] - 13s 11ms/step - loss: 5.7530e-04 - accuracy: 0.9998 - val_loss: 3.9978e-05 - val_accuracy: 1.0000\n",
            "Epoch 4/10\n",
            "1203/1203 [==============================] - 8s 7ms/step - loss: 4.6617e-06 - accuracy: 1.0000 - val_loss: 9.8989e-06 - val_accuracy: 1.0000\n",
            "Epoch 5/10\n",
            "1203/1203 [==============================] - 7s 6ms/step - loss: 1.5214e-06 - accuracy: 1.0000 - val_loss: 1.0180e-05 - val_accuracy: 1.0000\n",
            "Epoch 6/10\n",
            "1203/1203 [==============================] - 7s 6ms/step - loss: 7.0482e-07 - accuracy: 1.0000 - val_loss: 8.4800e-06 - val_accuracy: 1.0000\n",
            "Epoch 7/10\n",
            "1203/1203 [==============================] - 7s 6ms/step - loss: 3.7764e-07 - accuracy: 1.0000 - val_loss: 5.7039e-06 - val_accuracy: 1.0000\n",
            "Epoch 8/10\n",
            "1203/1203 [==============================] - 7s 6ms/step - loss: 2.1080e-07 - accuracy: 1.0000 - val_loss: 5.1611e-06 - val_accuracy: 1.0000\n",
            "Epoch 9/10\n",
            "1203/1203 [==============================] - 7s 6ms/step - loss: 1.1174e-07 - accuracy: 1.0000 - val_loss: 3.0827e-06 - val_accuracy: 1.0000\n",
            "Epoch 10/10\n",
            "1203/1203 [==============================] - 8s 6ms/step - loss: 6.2501e-08 - accuracy: 1.0000 - val_loss: 2.5241e-06 - val_accuracy: 1.0000\n"
          ]
        }
      ],
      "source": [
        "classes = 35\n",
        "epochs = 10\n",
        "learning_rate = 0.0001\n",
        "\n",
        "adam = Adam(lr=learning_rate)\n",
        "model.compile(optimizer=adam, loss='categorical_crossentropy', metrics=['accuracy'])\n",
        "history = model.fit(x_train, y_train,\n",
        "                    epochs=epochs,\n",
        "                    verbose=1,\n",
        "                    validation_data=(x_test, y_test), shuffle=True)"
      ]
    },
    {
      "cell_type": "code",
      "execution_count": 33,
      "metadata": {
        "colab": {
          "base_uri": "https://localhost:8080/",
          "height": 458
        },
        "id": "KBPesIBxh3wR",
        "outputId": "334f66cf-0888-4ee7-8be9-c7b269482d18"
      },
      "outputs": [
        {
          "output_type": "display_data",
          "data": {
            "text/plain": [
              "<Figure size 1008x504 with 1 Axes>"
            ],
            "image/png": "[encoded data removed]"
          },
          "metadata": {
            "needs_background": "light"
          }
        }
      ],
      "source": [
        "acc=history.history['accuracy']\n",
        "val_acc=history.history['val_accuracy']\n",
        "loss=history.history['loss']\n",
        "val_loss=history.history['val_loss']\n",
        "\n",
        "epochs=range(len(acc))\n",
        "\n",
        "fig = plt.figure(figsize=(14,7))\n",
        "plt.plot(epochs, acc, 'r', label=\"Training Accuracy\")\n",
        "plt.plot(epochs, val_acc, 'b', label=\"Validation Accuracy\")\n",
        "plt.xlabel('Epoch')\n",
        "plt.ylabel('Accuracy')\n",
        "plt.title('Training and validation accuracy')\n",
        "plt.legend(loc='lower right')\n",
        "plt.show()"
      ]
    },
    {
      "cell_type": "code",
      "execution_count": 34,
      "metadata": {
        "colab": {
          "base_uri": "https://localhost:8080/",
          "height": 475
        },
        "id": "AVRLVFIxh3wR",
        "outputId": "1a7bbf38-7fd9-43bc-81b6-345561e4358f"
      },
      "outputs": [
        {
          "output_type": "execute_result",
          "data": {
            "text/plain": [
              "Text(0.5, 1.0, 'Training and validation loss')"
            ]
          },
          "metadata": {},
          "execution_count": 34
        },
        {
          "output_type": "display_data",
          "data": {
            "text/plain": [
              "<Figure size 1008x504 with 1 Axes>"
            ],
            "image/png": "[encoded data removed]"
          },
          "metadata": {
            "needs_background": "light"
          }
        }
      ],
      "source": [
        "fig = plt.figure(figsize=(14,7))\n",
        "plt.plot(epochs, loss, 'r', label=\"Training Loss\")\n",
        "plt.plot(epochs, val_loss, 'b', label=\"Validation Loss\")\n",
        "plt.legend(loc='upper right')\n",
        "plt.xlabel('Epoch')\n",
        "plt.ylabel('Loss')\n",
        "plt.title('Training and validation loss')"
      ]
    },
    {
      "cell_type": "code",
      "execution_count": 35,
      "metadata": {
        "colab": {
          "base_uri": "https://localhost:8080/"
        },
        "id": "8zKCEczoh3wR",
        "outputId": "a1cf1d91-8810-4a5c-aa79-06e5b2fdd62d"
      },
      "outputs": [
        {
          "output_type": "stream",
          "name": "stdout",
          "text": [
            "['1', '2', '3', '4', '5', '6', '7', '8', '9', 'A', 'B', 'C', 'D', 'E', 'F', 'G', 'H', 'I', 'J', 'K', 'L', 'M', 'N', 'O', 'P', 'Q', 'R', 'S', 'T', 'U', 'V', 'W', 'X', 'Y', 'Z']\n"
          ]
        }
      ],
      "source": [
        "class_labels = list(map_characters.values())\n",
        "print(class_labels)"
      ]
    },
    {
      "cell_type": "code",
      "execution_count": 36,
      "metadata": {
        "colab": {
          "base_uri": "https://localhost:8080/"
        },
        "id": "-F8eVxHuh3wR",
        "outputId": "f9fbc30a-c361-4a8a-d763-3fcf75ecccdb"
      },
      "outputs": [
        {
          "output_type": "stream",
          "name": "stdout",
          "text": [
            "\n",
            "Keras CNN - accuracy: 1.0 \n",
            "\n",
            "134/134 [==============================] - 0s 2ms/step\n",
            "              precision    recall  f1-score   support\n",
            "\n",
            "           1       1.00      1.00      1.00       122\n",
            "           2       1.00      1.00      1.00       127\n",
            "           3       1.00      1.00      1.00       130\n",
            "           4       1.00      1.00      1.00       111\n",
            "           5       1.00      1.00      1.00       116\n",
            "           6       1.00      1.00      1.00       104\n",
            "           7       1.00      1.00      1.00       113\n",
            "           8       1.00      1.00      1.00       123\n",
            "           9       1.00      1.00      1.00       129\n",
            "           A       1.00      1.00      1.00       114\n",
            "           B       1.00      1.00      1.00        97\n",
            "           C       1.00      1.00      1.00       148\n",
            "           D       1.00      1.00      1.00       127\n",
            "           E       1.00      1.00      1.00       131\n",
            "           F       1.00      1.00      1.00       114\n",
            "           G       1.00      1.00      1.00       126\n",
            "           H       1.00      1.00      1.00       112\n",
            "           I       1.00      1.00      1.00       152\n",
            "           J       1.00      1.00      1.00       118\n",
            "           K       1.00      1.00      1.00       126\n",
            "           L       1.00      1.00      1.00       106\n",
            "           M       1.00      1.00      1.00       130\n",
            "           N       1.00      1.00      1.00       114\n",
            "           O       1.00      1.00      1.00       157\n",
            "           P       1.00      1.00      1.00       139\n",
            "           Q       1.00      1.00      1.00       135\n",
            "           R       1.00      1.00      1.00        99\n",
            "           S       1.00      1.00      1.00       120\n",
            "           T       1.00      1.00      1.00       118\n",
            "           U       1.00      1.00      1.00       133\n",
            "           V       1.00      1.00      1.00       140\n",
            "           W       1.00      1.00      1.00       102\n",
            "           X       1.00      1.00      1.00       118\n",
            "           Y       1.00      1.00      1.00       109\n",
            "           Z       1.00      1.00      1.00       115\n",
            "\n",
            "    accuracy                           1.00      4275\n",
            "   macro avg       1.00      1.00      1.00      4275\n",
            "weighted avg       1.00      1.00      1.00      4275\n",
            "\n"
          ]
        }
      ],
      "source": [
        "score = model.evaluate(x_test,y_test, verbose=0)\n",
        "print('\\nKeras CNN - accuracy:', score[1], '\\n')\n",
        "\n",
        "y_pred = model.predict(x_test, verbose = 1)\n",
        "#print('\\n', sklearn.metrics.classification_report(np.where(y_test > 0)[1], np.argmax(y_pred, axis=1), target_names=list(labels.values())), sep='') \n",
        "Y_pred_classes = np.argmax(y_pred,axis = 1) \n",
        "Y_true = np.argmax(y_test,axis = 1) \n",
        "report = metrics.classification_report(Y_true, Y_pred_classes, target_names=class_labels)\n",
        "print(report)"
      ]
    },
    {
      "cell_type": "code",
      "execution_count": 38,
      "metadata": {
        "colab": {
          "base_uri": "https://localhost:8080/"
        },
        "id": "60bs-Krxh3wS",
        "outputId": "dbe05ce3-9bf2-4a56-f854-304e318cd283"
      },
      "outputs": [
        {
          "output_type": "stream",
          "name": "stdout",
          "text": [
            "Confusion Matrix\n",
            "\n",
            "[[122   0   0 ...   0   0   0]\n",
            " [  0 127   0 ...   0   0   0]\n",
            " [  0   0 130 ...   0   0   0]\n",
            " ...\n",
            " [  0   0   0 ... 118   0   0]\n",
            " [  0   0   0 ...   0 109   0]\n",
            " [  0   0   0 ...   0   0 115]]\n"
          ]
        }
      ],
      "source": [
        "confusion = metrics.confusion_matrix(Y_true,Y_pred_classes)\n",
        "print('Confusion Matrix\\n')\n",
        "print(confusion)"
      ]
    },
    {
      "cell_type": "code",
      "execution_count": 39,
      "metadata": {
        "colab": {
          "base_uri": "https://localhost:8080/"
        },
        "id": "jRFGedpFh3wS",
        "outputId": "b81566e6-714f-4c55-cde6-d9ce0bba6112"
      },
      "outputs": [
        {
          "output_type": "stream",
          "name": "stderr",
          "text": [
            "WARNING:absl:Found untraced functions such as _jit_compiled_convolution_op, _jit_compiled_convolution_op, _jit_compiled_convolution_op while saving (showing 3 of 3). These functions will not be directly callable after loading.\n"
          ]
        }
      ],
      "source": [
        "model.save('/content/ihsr/')"
      ]
    },
    {
      "cell_type": "code",
      "execution_count": 40,
      "metadata": {
        "id": "o1Vc-57Ph3wS"
      },
      "outputs": [],
      "source": [
        "from keras.models import model_from_json\n",
        "json_model = model.to_json()\n",
        "\n",
        "with open('CNNThresholdISL.json', 'w') as json_file:\n",
        "    json_file.write(json_model)"
      ]
    },
    {
      "cell_type": "code",
      "execution_count": null,
      "metadata": {
        "id": "ZuWsyY66oTnb"
      },
      "outputs": [],
      "source": []
    }
  ],
  "metadata": {
    "accelerator": "GPU",
    "colab": {
      "provenance": [],
      "include_colab_link": true
    },
    "gpuClass": "standard",
    "kernelspec": {
      "display_name": "Python 3",
      "language": "python",
      "name": "python3"
    },
    "language_info": {
      "codemirror_mode": {
        "name": "ipython",
        "version": 3
      },
      "file_extension": ".py",
      "mimetype": "text/x-python",
      "name": "python",
      "nbconvert_exporter": "python",
      "pygments_lexer": "ipython3",
      "version": "3.6.4"
    }
  },
  "nbformat": 4,
  "nbformat_minor": 0
}
